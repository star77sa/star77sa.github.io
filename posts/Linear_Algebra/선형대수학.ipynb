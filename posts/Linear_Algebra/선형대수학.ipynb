{
 "cells": [
  {
   "cell_type": "raw",
   "metadata": {},
   "source": [
    "---\n",
    "title: \"선형대수학\"\n",
    "author: \"고경수\"\n",
    "date: \"01/23/2024\"\n",
    "reference-location: margin\n",
    "citation-location: margin\n",
    "cap-location: margin\n",
    "---"
   ]
  },
  {
   "cell_type": "markdown",
   "metadata": {},
   "source": [
    "# 선형대수학"
   ]
  },
  {
   "cell_type": "markdown",
   "metadata": {},
   "source": [
    "선형 방정식만을 다룬다.\n",
    "\n",
    "$\\cancel{ax^2}+bx+c=0$\n",
    "\n",
    "행렬과 벡터에 대해서 공부하는 학문이다.\n",
    "\n",
    "하고자 하는 것: 연립 1차 방정식을 푸는 것.\n",
    "\n",
    "$${\\color{Red}1}{\\color{SkyBlue}x} + {\\color{Red}2}{\\color{SkyBlue}y} = {\\color{SkyBlue}4} $$\n",
    "\n",
    "$${\\color{Red}2}{\\color{SkyBlue}x} + {\\color{Red}5}{\\color{SkyBlue}y} = {\\color{SkyBlue}9} $$\n",
    "\n",
    "$$ \\begin{pmatrix} {\\color{Red}1} & {\\color{Red}2} \\\\ {\\color{Red}2} & {\\color{Red}5} \\end{pmatrix} \\begin{pmatrix} {\\color{SkyBlue}x} \\\\ {\\color{SkyBlue}4} \\end{pmatrix} = \\begin{pmatrix} {\\color{SkyBlue}4} \\\\ {\\color{SkyBlue}9} \\end{pmatrix} $$\n",
    "\n",
    "$$\\text{\\ matrix \\  vector \\ \\ \\ vector}$$"
   ]
  },
  {
   "cell_type": "markdown",
   "metadata": {},
   "source": [
    "## 전치 (Transpose)"
   ]
  },
  {
   "cell_type": "markdown",
   "metadata": {},
   "source": [
    "$A$ -> $A^T$\n",
    "\n",
    "$a_{ij}$ -> $a_{ji}$"
   ]
  },
  {
   "cell_type": "markdown",
   "metadata": {},
   "source": [
    "$ A = \\begin{pmatrix} 1 & 2 \\\\ 3 & 4 \\end{pmatrix} $, $ A^T = \\begin{pmatrix} 1 & 3 \\\\ 2 & 4 \\end{pmatrix} $ "
   ]
  },
  {
   "cell_type": "markdown",
   "metadata": {},
   "source": [
    "1. $(A^T)^T = A$\n",
    "\n",
    "2. $(A+B)^T = A^T + B^T$\n",
    "\n",
    "3. $(AB)^T = B^TA^T$\n",
    "\n",
    "4. $(CA)^T = CA^T$\n",
    "\n",
    "5. $\\text{det}(A^T) = \\text{det}(A)$\n",
    "\n",
    "6. $ (A^T)^{-1} = (A^{-1})^T $"
   ]
  },
  {
   "cell_type": "markdown",
   "metadata": {},
   "source": [
    "## 내적과 정사영 (dot project & projection)"
   ]
  },
  {
   "cell_type": "markdown",
   "metadata": {},
   "source": [
    "내적: 두 벡터가 닮은 정도를 알아내는데 사용할 수 있다.\n",
    "\n",
    "inner product $\\supset$ dot prodect $=$ scalar product"
   ]
  },
  {
   "cell_type": "markdown",
   "metadata": {},
   "source": [
    "$$ \\begin{pmatrix} 1 \\\\ 3 \\end{pmatrix} \\cdot \\begin{pmatrix} 5 \\\\ 1 \\end{pmatrix} = 5+3 = 8 $$"
   ]
  },
  {
   "cell_type": "markdown",
   "metadata": {},
   "source": [
    "$a^Tb = \\lVert a \\rVert \\lVert b \\rVert cos\\theta = \\lVert a \\rVert cos\\theta \\lVert b \\rVert = \\lVert b \\rVert cos\\theta \\lVert a \\rVert$\n",
    "\n",
    "                    a에서 b로의 정사영 / b에서 a로의 정사영"
   ]
  },
  {
   "cell_type": "markdown",
   "metadata": {},
   "source": [
    "\" 내적은 정사영이다. \""
   ]
  },
  {
   "cell_type": "markdown",
   "metadata": {},
   "source": [
    "$a^Tb = \\lVert a \\rVert \\lVert a \\rVert = \\lVert a \\rVert^2$"
   ]
  },
  {
   "cell_type": "markdown",
   "metadata": {},
   "source": [
    "a 벡터의 크기를 구할 때 $\\sqrt{a^Ta}$ 이런식으로도 많이 구함"
   ]
  },
  {
   "cell_type": "markdown",
   "metadata": {},
   "source": [
    "단위벡터(unit vector): 크기가 1인 벡터\n",
    "\n",
    "$\\frac{a}{\\sqrt{a^T}{a}} = \\frac{a}{\\lVert a \\rVert}$ : Normalize\n",
    "\n",
    "$a \\cdot b$ => 같은 방향일때 가장 크고 반대 방향일 때 가장 작으며 직각일때 0"
   ]
  },
  {
   "cell_type": "markdown",
   "metadata": {},
   "source": [
    "## 벡터의 norm"
   ]
  },
  {
   "cell_type": "markdown",
   "metadata": {},
   "source": [
    "### 2-norm"
   ]
  },
  {
   "cell_type": "markdown",
   "metadata": {},
   "source": [
    "\n",
    "$a=\\begin{pmatrix} 1\\\\2\\\\3 \\end{pmatrix},||a|| _{2} = \\sqrt{a^Ta} = \\sqrt{1^2 + 2^2 + 3^2}$   ($l_2$-norm)"
   ]
  },
  {
   "cell_type": "markdown",
   "metadata": {},
   "source": [
    "### 1-norm"
   ]
  },
  {
   "cell_type": "markdown",
   "metadata": {},
   "source": [
    "$b=\\begin{pmatrix} 1\\\\2\\\\3 \\end{pmatrix}$, $\\lVert b \\rVert_1 = 1+2+3 = 6$    ($l_1$-norm)"
   ]
  },
  {
   "cell_type": "markdown",
   "metadata": {},
   "source": [
    "### p-norm"
   ]
  },
  {
   "cell_type": "markdown",
   "metadata": {},
   "source": [
    "$(|　|^p+|　|^p+|　|^p+ ... )^\\frac{1}{p}$, $(p\\geq 1)$"
   ]
  },
  {
   "cell_type": "markdown",
   "metadata": {},
   "source": [
    "`+` $l_0$-norm 은 0이아닌 성분의 \"개수\""
   ]
  },
  {
   "cell_type": "markdown",
   "metadata": {},
   "source": []
  }
 ],
 "metadata": {
  "kernelspec": {
   "display_name": "py38",
   "language": "python",
   "name": "py38"
  },
  "language_info": {
   "codemirror_mode": {
    "name": "ipython",
    "version": 3
   },
   "file_extension": ".py",
   "mimetype": "text/x-python",
   "name": "python",
   "nbconvert_exporter": "python",
   "pygments_lexer": "ipython3",
   "version": "3.8.18"
  }
 },
 "nbformat": 4,
 "nbformat_minor": 2
}
