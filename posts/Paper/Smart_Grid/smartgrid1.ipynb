{
 "cells": [
  {
   "cell_type": "raw",
   "metadata": {},
   "source": [
    "---\n",
    "title: \"[논문 리뷰] Machine learning driven smart electric power system: Current trends and new perspectives(2020)\"\n",
    "author: \"고경수\"\n",
    "date: \"01/19/2024\"\n",
    "reference-location: margin\n",
    "citation-location: margin\n",
    "cap-location: margin\n",
    "---"
   ]
  },
  {
   "cell_type": "markdown",
   "metadata": {},
   "source": [
    "# Machine learning driven smart electric power system: Current trends and new perspectives (2020)"
   ]
  },
  {
   "cell_type": "markdown",
   "metadata": {},
   "source": [
    "[link](https://www.sciencedirect.com/science/article/pii/S0306261920307492)"
   ]
  },
  {
   "cell_type": "markdown",
   "metadata": {},
   "source": [
    "# Abstract\n",
    "\n",
    "- 이 연구는 다양한 측면으로부터 스마트 그리드의 기술적 문제에 성공적으로 접근하기 위해 머신러닝 기술 사용의 증가하는 관심과 빠른 확장에 대해 쓰여졌다.\n",
    "- 현재의 전력 시스템은 보다 능동적이고 유연하며 지능적인 스마트 그리드로 빠르게 전환되고 있으며 이는 많은 영역에서 도전을 야기한다. (다양하게 분배된 재사용가능한 에너지들의 통합, 사이버 보안, 수요측면관리, 시스템 계획 및 운영에 관한 의사결정)\n",
    "- 스마트그리드에서 고급 기능의 실현은 기본적인 정보 통신 인프라와 다양한 소스(smart meter, phasor measurement units, and various forms of sensors)에서 생성된 방대한 양의 데이터를 효율적으로 처리하는 데 크게 의존한다.\n",
    "- 몇몇 이슈는 여전히 열리고 더 연구할 가지가 있는 채로 남겨졌다. (high-performance data processing and analysis for intelligent decision-making in large-scale complex multi-energy systems, lightweight machine learning-based solutions, and so forth)\n",
    "    \n",
    "    더하여 진보된 컴퓨팅, 통신기술(edge computing, ubiquitous internet of things and 5G wireless networks, in the smart grid are also highlighted.)을 활용하는 미래관점에서 스마트그리드는 주목받을 것이다.\n",
    "    \n",
    "- 머신러닝은 미래 스마트 전력 시스템을 이끄는 주요한 방법 중 하나가 될 것이다."
   ]
  },
  {
   "cell_type": "markdown",
   "metadata": {},
   "source": [
    "# 6. Conclusion\n",
    "\n",
    "- 스마트 그리드 - 전통적 power grid와 반대로 더 효율적이고 데이터에 의존하고 사용자 중심적이다.\n",
    "- 인공지능 맥락에서 머신러닝 기술은 스마트그리드의 다양한 측면의 단순하지 않은 기술적 도전에 접근하기 위한 효율적이고 진보된 도구로 고려된다.\n",
    "    \n",
    "    머신러닝 툴 사용의 빠른 확장에도 불구하고 몇몇 문제들은 남아있고 더욱 연구할 가치가 있다.\n",
    "    \n",
    "- 200개가 넘는 2014~2019 high impact journal들을 광범위하게 리뷰하고 보고하였다. 간단한 신경망부터 세련된 강화학습과 딥러닝 방법도 관측되었다. 더 구체적으로 55개가 machine learning based forecasting 문제, 23개가 machine learning based fault analysis, 42개가 machine leanring driven DSM 문제, 35개가 cyberspace security issues였다."
   ]
  },
  {
   "cell_type": "markdown",
   "metadata": {},
   "source": [
    "# 1. Introduction\n",
    "\n",
    "- AC(Alternating current), DC(Direct current) system\n",
    "- conventional energy system → more efficient next-generation smart grid system.\n",
    "\n",
    "\n",
    "- conventional energy system \n",
    "    - few centralized and large power generation sources\n",
    "    - mainly hydropower or fossil fuel based power generation system to the consumers via a distribution system\n",
    "    - uni-directional(단방향) power and communication flow ⇒ passive\n",
    "\n",
    "- smart grid\n",
    "    - integration and contribution of every distributed and renewable energy resource\n",
    "    - two-way power and information flow ⇒ active\n",
    "    ---\n",
    "    - bi-directional flow of power and communication은 reliability, security, efficiency of power systems를 향상시킬 수 있다."
   ]
  },
  {
   "cell_type": "markdown",
   "metadata": {},
   "source": []
  }
 ],
 "metadata": {
  "language_info": {
   "name": "python"
  }
 },
 "nbformat": 4,
 "nbformat_minor": 2
}
