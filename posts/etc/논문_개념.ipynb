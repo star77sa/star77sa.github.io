{
 "cells": [
  {
   "cell_type": "raw",
   "metadata": {},
   "source": [
    "---\n",
    "title: \"논문 읽다가 모르겠거나 복습할 개념 정리\"\n",
    "author: \"고경수\"\n",
    "date: \"01/01/2024\"\n",
    "reference-location: margin\n",
    "citation-location: margin\n",
    "cap-location: margin\n",
    "---"
   ]
  },
  {
   "cell_type": "markdown",
   "metadata": {},
   "source": [
    "# 성능, 평가 지표 정리\n",
    "\n",
    "AUC\n",
    "\n",
    "ROC Curve\n",
    "\n",
    "precision - recall"
   ]
  },
  {
   "cell_type": "markdown",
   "metadata": {},
   "source": [
    "# 개념 정리 2\n",
    "\n",
    "SMOTE"
   ]
  },
  {
   "cell_type": "markdown",
   "metadata": {},
   "source": [
    "---\n",
    "\n",
    "`시멘틱 커뮤니케이션`"
   ]
  },
  {
   "cell_type": "markdown",
   "metadata": {},
   "source": [
    "# Machine learning driven smart electric power system: Current trends and new perspectives(2020)\n",
    "\n",
    "## challenge\n"
   ]
  },
  {
   "cell_type": "markdown",
   "metadata": {},
   "source": [
    "\n",
    "- load forecast\n",
    "    - short-term load forecasting\n",
    "    - general (medium-term, long-term) load forecasting\n",
    "- electricity price forecast\n",
    "- renewable power generation prediction\n",
    "- fault and failure analysis\n",
    "- demand-side management(DSM)\n",
    "\n",
    "- non-intrusive load monitoring(NILM)\n",
    "- NIALM(Non-intrusive appliance load monitoring)\n",
    "\n",
    "- electricity theft detection\n",
    "- islanding detection\n",
    "\n",
    "\n",
    "`방법론`\n",
    "- Bayesian Methods\n",
    "- HMM(Hidden Markov model)\n",
    "- Q-learning\n",
    "- DBN\n",
    "\n",
    "- LASSO\n",
    "- LDA(Linear discriminant analysis)\n",
    "- MDA(Multiple discriminant analysis)\n",
    "- QDA(Quadratic discriminant analysis)\n",
    "- KNN\n",
    "- LSTM\n",
    "- MAPE(Mean absolute percentage error)\n",
    "\n",
    "\n",
    "**network**\n",
    "- BPNN(Back propagation neural network)\n",
    "- FFNN(Feed Forward neural network)\n",
    "- RBFNN(Radial basis function neural network)\n",
    "- DBN(Deep belief network)\n",
    "\n",
    "**Boltzmann machine** 볼츠만이 계속 나오네 확인해볼것\n",
    "- CRBM(Conditional restricted Boltzmann machine)\n",
    "- DBM(Deep Boltzmann machine)\n",
    "- FCRBM(Factored conditional resticted Boltzmann machine) \n",
    "- RBM(Restricted Boltzmann machine)\n",
    "---\n",
    "- ELM(Extreme learning machine)\n",
    "- LSM(Liquid state machine)\n",
    "\n",
    "\n",
    "- FDI(False data injection)\n",
    "- GRU(Gated recurrent unit)\n",
    "\n",
    "- MARS(Multivariate adaptive regression splines)\n",
    "- PICP(Prediction interval coverage probability)\n",
    "- PINC(Prediction interval nominal confidence)\n",
    "- PSO(Particle swarm optimization)\n",
    "\n",
    "- SAE(Stacked auto-encoder)\n",
    "- SVR(Support vector regression)\n",
    "\n",
    "- ACE(Average coverage error)\n",
    "- AMI(Advanced metering infrastructure)\n",
    "\n",
    "- AC(Alternating current), DC(Direct current) system\n",
    "- DG(distributed generation)\n",
    "- PV(photovoltic)\n",
    "- 5G (+6G?)"
   ]
  },
  {
   "cell_type": "markdown",
   "metadata": {},
   "source": []
  }
 ],
 "metadata": {
  "language_info": {
   "name": "python"
  }
 },
 "nbformat": 4,
 "nbformat_minor": 2
}
