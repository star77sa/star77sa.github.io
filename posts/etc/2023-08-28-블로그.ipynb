{
 "cells": [
  {
   "cell_type": "raw",
   "metadata": {},
   "source": [
    "---\n",
    "title: \"2023.08.28 블로그 구축\"\n",
    "author: \"고경수\"\n",
    "date: \"08/28/2023\"\n",
    "reference-location: margin\n",
    "citation-location: margin\n",
    "cap-location: margin\n",
    "---"
   ]
  },
  {
   "cell_type": "markdown",
   "metadata": {},
   "source": [
    "### 왜 옮겼는지?"
   ]
  },
  {
   "cell_type": "markdown",
   "metadata": {},
   "source": [
    "깃허브를 이용한 블로그, 네이버 블로그 등 다양한 블로그를 사용해보다가 fastpage 블로그에 정착을 했었습니다.\n",
    "\n",
    "주피터노트북 파일을 만들면 그대로 포스팅을 해주어서 용이하였기 때문이었는데,\n",
    "\n",
    "해당 블로그의 서비스가 종료되고 Quarto 사용을 권장한다고 하였으나 블로그 개설이 복잡한 것 같아 티스토리를 한동안 사용해보았습니다. 다만 역시 코드 기록이 불편하여 Quarto 블로그를 제작하여 이 블로그로 옮기게 되었습니다.\n",
    "\n",
    "다른 블로그들의 포스팅은 복습하는 겸 조금씩 옮길 예정입니다."
   ]
  },
  {
   "cell_type": "markdown",
   "metadata": {},
   "source": [
    "### 블로그 제작 (Quarto)\n",
    "- [Quarto](https://quarto.org/docs/websites/website-blog.html)\n",
    "- [참고영상](https://www.youtube.com/watch?v=YoKjBcuUP0s&ab_channel=Crump%27sComputationalCognitionLab)\n",
    "\n",
    "---\n",
    "\n",
    "- [설정가능 icon](https://icons.getbootstrap.com/)"
   ]
  },
  {
   "cell_type": "markdown",
   "metadata": {},
   "source": [
    "### RSS 피드\n",
    "\n",
    "- [quarto feed](https://quarto.org/docs/websites/website-listings.html#feeds)\n",
    "- [feed parser](https://pypi.org/project/feedparser/)\n",
    "- [날짜 포맷](https://www.tutorialspoint.com/python/time_strptime.htm)\n",
    "\n"
   ]
  },
  {
   "cell_type": "markdown",
   "metadata": {},
   "source": [
    "### 블로그 검색엔진 등록\n",
    "\n",
    "- [검색엔진 등록](https://1-woori.tistory.com/entry/%EB%82%B4-%EB%B8%94%EB%A1%9C%EA%B7%B8-%EA%B2%80%EC%83%89%EC%97%94%EC%A7%84%EC%97%90-%EB%93%B1%EB%A1%9D%ED%95%98%EA%B8%B0-%EB%8B%A4%EC%9D%8C-%EB%84%A4%EC%9D%B4%EB%B2%84-%EA%B5%AC%EA%B8%80-%EB%B9%99-%EC%A4%8C)"
   ]
  },
  {
   "cell_type": "markdown",
   "metadata": {},
   "source": [
    "### Jupyter Notebook\n",
    "\n",
    "- 노트북의 첫 번째 셀은 문서제목, 작성자 및 지정해야하는 기타 옵션이 포함된 **RAW Cell**이어야 한다.\n",
    "[https://quarto.org/docs/tools/jupyter-lab.html](https://quarto.org/docs/tools/jupyter-lab.html)"
   ]
  }
 ],
 "metadata": {
  "kernelspec": {
   "display_name": "py38",
   "language": "python",
   "name": "python3"
  },
  "language_info": {
   "codemirror_mode": {
    "name": "ipython",
    "version": 3
   },
   "file_extension": ".py",
   "mimetype": "text/x-python",
   "name": "python",
   "nbconvert_exporter": "python",
   "pygments_lexer": "ipython3",
   "version": "3.8.13"
  },
  "orig_nbformat": 4
 },
 "nbformat": 4,
 "nbformat_minor": 2
}
