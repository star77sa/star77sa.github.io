{
 "cells": [
  {
   "cell_type": "raw",
   "metadata": {},
   "source": [
    "---\n",
    "title: \"논문 읽다가 모르겠거나 복습할 개념 정리\"\n",
    "author: \"고경수\"\n",
    "date: \"01/01/2024\"\n",
    "reference-location: margin\n",
    "citation-location: margin\n",
    "cap-location: margin\n",
    "---"
   ]
  },
  {
   "cell_type": "markdown",
   "metadata": {},
   "source": [
    "# 성능, 평가 지표 정리\n",
    "\n",
    "AUC\n",
    "\n",
    "ROC Curve\n",
    "\n",
    "precision - recall"
   ]
  },
  {
   "cell_type": "markdown",
   "metadata": {},
   "source": [
    "# 개념 정리 2\n",
    "\n",
    "SMOTE"
   ]
  },
  {
   "cell_type": "markdown",
   "metadata": {},
   "source": [
    "---\n",
    "\n",
    "`시멘틱 커뮤니케이션`"
   ]
  },
  {
   "cell_type": "markdown",
   "metadata": {},
   "source": [
    "# Machine learning driven smart electric power system: Current trends and new perspectives(2020)\n",
    "\n",
    "## challenge\n"
   ]
  },
  {
   "cell_type": "markdown",
   "metadata": {},
   "source": [
    "Smart grid의 challenges\n",
    "\n",
    "- electric load and price forecasting\n",
    "    - 전력 수요 예측은 전력 공급 및 유통을 최적화하고 에너지 효율성을 향상시키는 데 도움이 된다. 또한 가격 예측은 사용자에게 최적의 전력 소비 시간을 선택할 수 있도록 도움을 준다.\n",
    "\n",
    "- renewable power generation prediction\n",
    "        - 재생가능 에너지의 효과적인 통합을 위해서는 향후 발전량을 정확하게 예측하는 것이 필요.\n",
    "\n",
    "- fault and failure analysis\n",
    "    - 전력 시스템의 안정성을 유지하기 위해 필요. 신속하게 고장을 감지하고 이에 대응함으로써 전력 시스템의 중단을 최소화하고 서비스 품질을 개선할 수 있다.\n",
    "\n",
    "- demand-side management(DSM) / load management\n",
    "    - 전력 수요를 조절하여 그리드 부하를 분산시키고 최적화하는 것. 이를 통해 에너지 소비를 낮추고 전력 네트워크의 효율성을 향상시킬 수 있다.\n",
    "\n",
    "- NILM :\n",
    "    - 비침입적으로 가정이나 사업장에서의 전력 사용을 모니터링하는 기술. 각 전기 기기의 전력 패턴을 분석하여 에너지 사용을 식별하고 이를 통해 에너지 사용 패턴을 최적화할 수 있다.\n",
    "\n",
    "- cyber-attack detection\n",
    "    - 스마트 그리드는 전산 네트워크에 의존하므로 사이버 공격에 노출될 수 있다. 사이버 공격 탐지는 악성 행위를 식별하고 방어하는데 중요하다.\n",
    "\n",
    "- energy and economic dispatch\n",
    "    - 전력 생산 장치의 작동을 최적화하여 에너지 효율성을 극대화하고 경제적 비용을 최소화하는 것을 목표로 한다. 이는 전력 그리드의 운영을 최적화하고 에너지 비용을 관리하는 데 도움이 된다.\n",
    "\n",
    "- 이러한 챌린지들에 대한 연구와 개발은 스마트 그리드의 안정성, 효율성, 그리고 신뢰성을 향상시키는 데 기여하며, 지속 가능한 전력 시스템의 구현을 지원한다."
   ]
  },
  {
   "cell_type": "markdown",
   "metadata": {},
   "source": [
    "\n",
    "- load forecast\n",
    "    - short-term load forecasting\n",
    "    - general (medium-term, long-term) load forecasting\n",
    "\n",
    "- NIALM(Non-intrusive appliance load monitoring)\n",
    "\n",
    "- electricity theft detection\n",
    "- islanding detection\n",
    "\n",
    "\n",
    "`방법론`\n",
    "- Bayesian Methods\n",
    "- HMM(Hidden Markov model)\n",
    "- Q-learning\n",
    "- DBN\n",
    "\n",
    "- LASSO\n",
    "- LDA(Linear discriminant analysis)\n",
    "- MDA(Multiple discriminant analysis)\n",
    "- QDA(Quadratic discriminant analysis)\n",
    "- KNN\n",
    "- LSTM\n",
    "- MAPE(Mean absolute percentage error)\n",
    "\n",
    "\n",
    "**network**\n",
    "- BPNN(Back propagation neural network)\n",
    "- FFNN(Feed Forward neural network)\n",
    "- RBFNN(Radial basis function neural network)\n",
    "- DBN(Deep belief network)\n",
    "\n",
    "**Boltzmann machine** 볼츠만이 계속 나오네 확인해볼것\n",
    "- CRBM(Conditional restricted Boltzmann machine)\n",
    "- DBM(Deep Boltzmann machine)\n",
    "- FCRBM(Factored conditional resticted Boltzmann machine) \n",
    "- RBM(Restricted Boltzmann machine)\n",
    "---\n",
    "- ELM(Extreme learning machine)\n",
    "- LSM(Liquid state machine)\n",
    "\n",
    "\n",
    "- FDI(False data injection)\n",
    "- GRU(Gated recurrent unit)\n",
    "\n",
    "- MARS(Multivariate adaptive regression splines)\n",
    "- PICP(Prediction interval coverage probability)\n",
    "- PINC(Prediction interval nominal confidence)\n",
    "- PSO(Particle swarm optimization)\n",
    "\n",
    "- SAE(Stacked auto-encoder)\n",
    "- SVR(Support vector regression)\n",
    "\n",
    "- ACE(Average coverage error)\n",
    "- AMI(Advanced metering infrastructure)\n",
    "\n",
    "- AC(Alternating current), DC(Direct current) system\n",
    "- DG(distributed generation)\n",
    "- PV(photovoltic)\n",
    "- 5G (+6G?)"
   ]
  },
  {
   "cell_type": "markdown",
   "metadata": {},
   "source": []
  }
 ],
 "metadata": {
  "language_info": {
   "name": "python"
  }
 },
 "nbformat": 4,
 "nbformat_minor": 2
}
