{
 "cells": [
  {
   "cell_type": "raw",
   "metadata": {},
   "source": [
    "---\n",
    "title: \"논문 읽다가 모르는 영단어 정리\"\n",
    "author: \"고경수\"\n",
    "date: \"01/01/2024\"\n",
    "reference-location: margin\n",
    "citation-location: margin\n",
    "cap-location: margin\n",
    "---"
   ]
  },
  {
   "cell_type": "markdown",
   "metadata": {},
   "source": [
    "### 영단어\n",
    "\n",
    "`stimuli` 자극\n",
    "\n",
    "`intermittent` 간헐적\n",
    "\n",
    "`countermeasures` 대책\n",
    "\n",
    "`diffusion` 어떤 현상이나 개념이 시간이 지남에 따라 널리 퍼져나가거나 확산되는 과정\n",
    "\n",
    "`encompass` 포함하다\n",
    "\n",
    "`hence` 이런 이유로\n",
    "\n",
    "`massive` 거대한\n",
    "\n",
    "`inadequacy` 불충분함\n",
    "\n",
    "`extrapolate` 추론하다\n",
    "\n",
    "`exploitation` 착취, (부당한)이용, 개발\n",
    "\n",
    "`resilience` 회복력, 탄력, 복원력"
   ]
  }
 ],
 "metadata": {
  "language_info": {
   "name": "python"
  }
 },
 "nbformat": 4,
 "nbformat_minor": 2
}
