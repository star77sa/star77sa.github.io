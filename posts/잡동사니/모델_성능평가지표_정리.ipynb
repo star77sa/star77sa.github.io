{
 "cells": [
  {
   "cell_type": "raw",
   "metadata": {},
   "source": [
    "---\n",
    "title: \"성능 평가 지표(회귀모델, 분류모델)\"\n",
    "author: \"고경수\"\n",
    "date: \"01/19/2024\"\n",
    "reference-location: margin\n",
    "citation-location: margin\n",
    "cap-location: margin\n",
    "---"
   ]
  },
  {
   "cell_type": "markdown",
   "metadata": {},
   "source": [
    "# 포스팅 예정"
   ]
  }
 ],
 "metadata": {
  "language_info": {
   "name": "python"
  }
 },
 "nbformat": 4,
 "nbformat_minor": 2
}
