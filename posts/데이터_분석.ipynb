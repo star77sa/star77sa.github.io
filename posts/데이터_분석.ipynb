{
 "cells": [
  {
   "cell_type": "raw",
   "metadata": {},
   "source": [
    "---\n",
    "title: \"데이터 과학\"\n",
    "author: \"고경수\"\n",
    "date: \"01/11/2024\"\n",
    "reference-location: margin\n",
    "citation-location: margin\n",
    "cap-location: margin\n",
    "---"
   ]
  },
  {
   "cell_type": "markdown",
   "metadata": {},
   "source": [
    "# 데이터 분석"
   ]
  },
  {
   "cell_type": "markdown",
   "metadata": {},
   "source": [
    "- 데이터 과학 : 데이터를 사용하여 질문에 합리적인 답을 내릴 수 있게 해주는 활동"
   ]
  },
  {
   "cell_type": "markdown",
   "metadata": {},
   "source": [
    "데이터 분석에 있어 기초통계, 선형모형(회귀·분산 분석 포함)은 제대로 배울 것을 권장.\n",
    "\n",
    "중요한 요소 : 협업할 수 있는 태도, 소통능력, 폭넓은 독서(논픽션 양서)\n",
    "\n",
    "데이터 획득 : UCI, 머신러닝 리포, 캐글, 위키피디아 데이터 세트 리스트 등..."
   ]
  },
  {
   "cell_type": "markdown",
   "metadata": {},
   "source": [
    "분석 순서 : 데이터 취득·데이터 정리 → 탐색적 자료 분석 EDA : 시각화·기초통계량 계산(데이터의 패턴, 이상치 탐색)  → 확증적 자료 분석 CDA : 통계적 가설·가설검정·신뢰구간(통계적 모형화 statistical modeling)"
   ]
  },
  {
   "cell_type": "markdown",
   "metadata": {},
   "source": [
    "## 통계\n",
    "\n",
    "- 특별한 이유를 제외하고는 양측검정 하는 것이 좋다.\n",
    "\n",
    "- p-value가 크다는 것은 귀무가설에 반하는 증거가 불충분하다는 것이지 귀무가설을 증명하는 증거가 있다는 것이 아니다.\n",
    "\n",
    "- 1종 오류 : 귀무가설을 잘못 기각\n",
    "- 2종 오류 : 대립가설을 잘못 기각\n",
    "\n",
    "- \"유의수준 5%에서 유의하다\" 라고만 하지말고 p-value 그 자체의 값도 알려야 한다.\n",
    "\n",
    "- 모수는 상수다.(빈도주의자 관점)\n",
    "\n",
    "- `높은 p-value를 귀무가설이 옳다는 증거로 이해하는 오류` : 높은 p-value는 대립가설을 입증하는 증거가 불충분함을 의미한다. 효과가 아주 강해도 데이터 관측치가 적으면 p-value가 높을 수 있다. 즉, 높은 p-value는 증거/데이터 불충분으로 이해해야 한다.\n",
    "\n",
    "- `낮은 p-value가 항상 의미있다고 이해하는 오류` : 만약 표본크기가 너무 크고, 표본퍙균의 증가값 자체가 너무 적다면 낮은 p-value 자체로는 의미가 없다.\n",
    "\n",
    "- 95% 신뢰구간의 정의 : 같은 모형에서 반복해서 표본을 얻고 신뢰구간을 얻을 때 신뢰구간이 참 모수값을 포함할 확률이 95%가 되도록 만들어진 구간\n",
    "\n",
    "- 중심극한정리 : 어떤 분포든 표본평균은 대략 종모양을 따른다. 정규분포에 기반.\n",
    "\n",
    "- 95% 신뢰구간의 크기는 $\\frac{1}{\\sqrt{n}}$ 이다. 즉, 표본의 크기가 커지면 커질수록 신뢰구간의 크기는 줄어들고 그 줄어드는 속도는 $\\sqrt{n}$ 이다.\n",
    "\n",
    "\n",
    "### 통계 인터뷰 질문\n",
    "- p-value를 정의하라 : 귀무가설 하에서, 관찰된 통계량만큼 극단적인 값이 관찰될 확률\n",
    "- 비전문가들이 이해하기 쉽게 p-value를 설명하라."
   ]
  },
  {
   "cell_type": "markdown",
   "metadata": {},
   "source": []
  },
  {
   "cell_type": "markdown",
   "metadata": {},
   "source": [
    "---\n",
    "\n"
   ]
  },
  {
   "cell_type": "markdown",
   "metadata": {},
   "source": [
    "### 모집단, 모수, 표본\n",
    "\n",
    "- 모집단(population) : 데이터가 (랜덤하게) 표본화되었다고 가정하는 분포/집단\n",
    "- 모수(population parameter) : 모집단을 정의하는 값을 모르는 상수\n",
    "- 표본(sample) : 모집단으로부터 (랜덤하게) 추출된 일부 관측치\n",
    "- 통계량(statistics) : 모수를 추정하기 위해 데이터로부터 계산된 값\n",
    "- 귀무가설(null hypothesis) : 모수에 대한 기존(status quo)의 사실 혹은 디폴트 값\n",
    "- 대립가설(alternative hypothesis) : 모수에 대해 귀무가설과 대립하여 증명하고 싶은 사실\n",
    "- 가설검정(hypothesis testing) : 통계량을 사용해 귀무가설을 기각하는 절차\n",
    "- 타입 1 오류(Type 1 error) : 가설검정 절차가 참인 귀무가설을 기각하는 사건\n",
    "- 타입 2 오류(Type 2 error) : 가설검정 절차가 거짓인 귀무가설을 기각하지 않는 사건\n",
    "- 유의수준(significance level) : 타입 1 오류를 범할 확률의 허용치\n",
    "- P-value : 만약 귀무가설이 참일 때 데이터가 보여준 정도로 특이한 값이 관측될 확률"
   ]
  },
  {
   "cell_type": "markdown",
   "metadata": {},
   "source": [
    "- Gapminder(http://www.gapminder.org/) :스웨덴의 비영리 통계 분석 서비스. 틈새주의(mind the gap)라는 지하철 경고문에서 영감을 얻은 이름은 세계관과 사실/데이터 간의 간극을 조심하고 좁히자는 이상을 반영"
   ]
  },
  {
   "cell_type": "markdown",
   "metadata": {},
   "source": [
    "- 더미 변수 : \n",
    "\n",
    "- SQL\n",
    "\n",
    "- 유닉스 쉘\n",
    "\n",
    "- 파이썬 코딩 스타일 : PEP 0008 (도움을 주는 pylint)\n",
    "\n",
    "- t값 : $\\frac{\\bar{x}-\\mu_0}{\\frac{s}{\\sqrt{n}}}$\n",
    "\n",
    "- PCA\n",
    "\n",
    "- 랜덤프로세스, 확률변수, 포아송 프로세스, 포아송 어라이블, 센츄럴 리밋\n",
    "\n",
    "- 부트스트랩\n",
    "\n",
    "- iid\n",
    "\n",
    "- 정보이론, 엔트로피\n",
    "\n",
    "- 통계적 패턴인식\n",
    "\n",
    "- 평가지표\n",
    "\n",
    "- 손실함수\n",
    "\n"
   ]
  },
  {
   "cell_type": "markdown",
   "metadata": {},
   "source": [
    "sss"
   ]
  }
 ],
 "metadata": {
  "kernelspec": {
   "display_name": "py38",
   "language": "python",
   "name": "py38"
  },
  "language_info": {
   "codemirror_mode": {
    "name": "ipython",
    "version": 3
   },
   "file_extension": ".py",
   "mimetype": "text/x-python",
   "name": "python",
   "nbconvert_exporter": "python",
   "pygments_lexer": "ipython3",
   "version": "3.8.18"
  }
 },
 "nbformat": 4,
 "nbformat_minor": 2
}
