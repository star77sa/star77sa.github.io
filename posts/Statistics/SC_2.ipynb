{
 "cells": [
  {
   "cell_type": "raw",
   "metadata": {},
   "source": [
    "---\n",
    "title: \"[통계전산] 선형대수학\"\n",
    "author: \"고경수\"\n",
    "date: \"02/14/2024\"\n",
    "reference-location: margin\n",
    "citation-location: margin\n",
    "cap-location: margin\n",
    "---"
   ]
  },
  {
   "cell_type": "markdown",
   "metadata": {},
   "source": [
    "최규빈 교수님 통계전산 수업 정리\n",
    "\n",
    "수업에서는 Julia를 사용하지만 필요한 부분만 Python으로 바꾸어 작성하였다."
   ]
  },
  {
   "cell_type": "code",
   "execution_count": 1,
   "metadata": {},
   "outputs": [],
   "source": [
    "import numpy as np\n",
    "import matplotlib.pyplot as plt\n",
    "import pandas as pd\n",
    "import scipy.stats as sps"
   ]
  },
  {
   "cell_type": "markdown",
   "metadata": {},
   "source": [
    "# 통계 전산"
   ]
  },
  {
   "cell_type": "markdown",
   "metadata": {},
   "source": [
    "## 로드맵"
   ]
  },
  {
   "cell_type": "markdown",
   "metadata": {},
   "source": [
    "`-` 통계\n",
    "\n",
    "- 일반통계학 개념의 백업\n",
    "- 여러가지 분포리뷰, 어떠한 분포에서 샘플을 추출하는 방법\n",
    "- 수렴\n",
    "- 추정 및 검정\n",
    "- 부트스트랩\n",
    "- 선형회귀분석"
   ]
  },
  {
   "cell_type": "markdown",
   "metadata": {},
   "source": [
    "`-` 선형대수학\n",
    "\n",
    "- 백터공간, rank\n",
    "- 직교행렬, 사영행렬, 양정치행렬...\n",
    "- 매트릭스를 해석하는 방식 (이미지, 데이터프레임, 변환)...\n",
    "- 분해이론: 고유값분해, SVD\n",
    "- 벡터나 매트릭스의 미분.."
   ]
  },
  {
   "cell_type": "markdown",
   "metadata": {},
   "source": [
    "## ~~"
   ]
  },
  {
   "cell_type": "markdown",
   "metadata": {},
   "source": []
  }
 ],
 "metadata": {
  "kernelspec": {
   "display_name": "py38",
   "language": "python",
   "name": "py38"
  },
  "language_info": {
   "codemirror_mode": {
    "name": "ipython",
    "version": 3
   },
   "file_extension": ".py",
   "mimetype": "text/x-python",
   "name": "python",
   "nbconvert_exporter": "python",
   "pygments_lexer": "ipython3",
   "version": "3.8.18"
  }
 },
 "nbformat": 4,
 "nbformat_minor": 2
}
